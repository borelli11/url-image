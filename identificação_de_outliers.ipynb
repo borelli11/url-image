{
 "cells": [
  {
   "cell_type": "code",
   "execution_count": null,
   "id": "cd69be82",
   "metadata": {},
   "outputs": [
    {
     "name": "stdout",
     "output_type": "stream",
     "text": [
      "\n",
      "Resumo estatístico da coluna QUANTIDADE:\n",
      "count    200119.000000\n",
      "mean          3.650638\n",
      "std          12.045057\n",
      "min           0.000000\n",
      "25%           1.000000\n",
      "50%           1.000000\n",
      "75%           2.000000\n",
      "max         110.000000\n",
      "Name: quantidade, dtype: float64\n",
      "\n",
      "--- Análise de Outliers ---\n",
      "Q1: 1.0, Q3: 2.0, IQR: 1.0\n",
      "Limite inferior: -0.5, Limite superior: 3.5\n",
      "Número de outliers: 11283\n",
      "Porcentagem de outliers: 5.64%\n",
      "\n",
      "--- Comparação de Variabilidade ---\n",
      "Desvio padrão com outliers: 12.05\n",
      "Desvio padrão sem outliers: 0.78\n"
     ]
    }
   ],
   "source": [
    "import pandas as pd\n",
    "import os\n",
    "\n",
    "# Pasta onde estão os arquivosssss\n",
    "pasta_dados = r\"C:\\Users\\Enrico\\Documents\\dados\"\n",
    "\n",
    "# Lista de arquivos a serem carregadossss\n",
    "arquivos = [\n",
    "    \"vendas_linha_petshop_2019.csv\",\n",
    "    \"vendas_linha_petshop_2020.csv\",\n",
    "    \"vendas_linha_petshop_2021.csv\",\n",
    "    \"vendas_linha_petshop_2022.csv\"\n",
    "]\n",
    "\n",
    "# Função para carregar csv com tratamento de encoding\n",
    "def carregar_csv(caminho):\n",
    "    if not os.path.exists(caminho):\n",
    "        print(f\" Arquivo não encontrado: {caminho}\")\n",
    "        return None\n",
    "    try:\n",
    "        return pd.read_csv(caminho, sep=\";\", encoding=\"utf-8\")\n",
    "    except UnicodeDecodeError:\n",
    "        return pd.read_csv(caminho, sep=\";\", encoding=\"latin-1\")\n",
    "\n",
    "# Carregar arquivos\n",
    "dataframes = []\n",
    "for arquivo in arquivos:\n",
    "    caminho_completo = os.path.join(pasta_dados, arquivo)\n",
    "    df_temp = carregar_csv(caminho_completo)\n",
    "    if df_temp is not None:\n",
    "        # Adicionar coluna do ano\n",
    "        ano = int(arquivo.split(\"_\")[-1].split(\".\")[0])\n",
    "        df_temp[\"Ano\"] = ano\n",
    "        dataframes.append(df_temp)\n",
    "\n",
    "# Verificar se carregou pelo menos um arquivo\n",
    "if not dataframes:\n",
    "    raise ValueError(\"Nenhum arquivo foi carregado. Verifique os nomes e caminhos dos CSVs.\")\n",
    "\n",
    "# Unir todos os anos em um único DataFrame\n",
    "df = pd.concat(dataframes, ignore_index=True)\n",
    "\n",
    "# Limpeza da coluna quantidade\n",
    "df['quantidade'] = pd.to_numeric(df['quantidade'], errors='coerce')\n",
    "df.dropna(subset=['quantidade'], inplace=True)\n",
    "df['quantidade'] = df['quantidade'].astype(int)\n",
    "\n",
    "# Estatísticas básicas\n",
    "print(\"\\nResumo estatístico da coluna QUANTIDADE:\")\n",
    "print(df[\"quantidade\"].describe())\n",
    "\n",
    "# Detectar outliers usando IQR (Intervalo Interquartil)\n",
    "Q1 = df['quantidade'].quantile(0.25)\n",
    "Q3 = df['quantidade'].quantile(0.75)\n",
    "IQR = Q3 - Q1\n",
    "limite_inferior = Q1 - 1.5 * IQR\n",
    "limite_superior = Q3 + 1.5 * IQR\n",
    "\n",
    "outliers = df[(df['quantidade'] < limite_inferior) | (df['quantidade'] > limite_superior)]\n",
    "\n",
    "print(\"\\n--- Análise de Outliers ---\")\n",
    "print(f\"Q1: {Q1}, Q3: {Q3}, IQR: {IQR}\")\n",
    "print(f\"Limite inferior: {limite_inferior}, Limite superior: {limite_superior}\")\n",
    "print(f\"Número de outliers: {outliers.shape[0]}\")\n",
    "print(f\"Porcentagem de outliers: {outliers.shape[0]/df.shape[0]*100:.2f}%\")\n",
    "\n",
    "\n",
    "# calculo de desvio padrão com e sem outliers\n",
    "std_original = df['quantidade'].std()\n",
    "df_sem_outliers = df[(df['quantidade'] >= limite_inferior) & (df['quantidade'] <= limite_superior)]\n",
    "std_sem_outliers = df_sem_outliers['quantidade'].std()\n",
    "\n",
    "print(\"\\n--- Comparação de Variabilidade ---\")\n",
    "print(f\"Desvio padrão com outliers: {std_original:.2f}\")\n",
    "print(f\"Desvio padrão sem outliers: {std_sem_outliers:.2f}\")"
   ]
  },
  {
   "cell_type": "code",
   "execution_count": 9,
   "id": "9b2b6ace",
   "metadata": {},
   "outputs": [
    {
     "name": "stdout",
     "output_type": "stream",
     "text": [
      "c:\\Users\\Enrico\\Documents\n"
     ]
    }
   ],
   "source": [
    "import os\n",
    "print(os.getcwd())"
   ]
  }
 ],
 "metadata": {
  "kernelspec": {
   "display_name": "base",
   "language": "python",
   "name": "python3"
  },
  "language_info": {
   "codemirror_mode": {
    "name": "ipython",
    "version": 3
   },
   "file_extension": ".py",
   "mimetype": "text/x-python",
   "name": "python",
   "nbconvert_exporter": "python",
   "pygments_lexer": "ipython3",
   "version": "3.12.7"
  }
 },
 "nbformat": 4,
 "nbformat_minor": 5
}
